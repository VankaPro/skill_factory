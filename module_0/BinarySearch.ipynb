{
 "cells": [
  {
   "cell_type": "markdown",
   "metadata": {},
   "source": [
    "<h1> Guessing number with Binary Search</h1>"
   ]
  },
  {
   "cell_type": "code",
   "execution_count": null,
   "metadata": {},
   "outputs": [],
   "source": [
    "import numpy as np\n",
    "\n",
    "\n",
    "def computer_guess(num):\n",
    "    \"\"\"This function guesses number with the help of binary search\"\"\"\n",
    "    attempts_count = 1\n",
    "    low_limit = 1\n",
    "    high_limit = num\n",
    "    guess = high_limit / 2\n",
    "    while guess != num:\n",
    "        attempts_count += 1\n",
    "        guess = (low_limit + high_limit) // 2\n",
    "        # print(\"The computer takes a guess...\", guess)\n",
    "        if guess > num:\n",
    "            high_limit = guess\n",
    "        elif guess < num:\n",
    "            low_limit = guess + 1\n",
    "    # print(\"The computer guessed\", guess, \"and it was correct!\")\n",
    "    return attempts_count\n",
    "\n",
    "\n",
    "def score_game(maximum_range):\n",
    "    \"\"\"Function which launches game 1000 times to get average results\"\"\"\n",
    "    np.random.seed(1)  # fix RANDOM SEED\n",
    "    random_array = np.random.randint(1, maximum_range + 1, size=1000)\n",
    "    count_ls = [computer_guess(number) for number in random_array]\n",
    "    score = int(np.mean(count_ls))\n",
    "    print(f\"Algorithm guesses number on average for {score} attempts\")\n",
    "\n",
    "\n",
    "def check_limit(limit):\n",
    "    \"\"\"Function to validate input\"\"\"\n",
    "    if limit.isdigit():\n",
    "        return int(limit)\n",
    "    else:\n",
    "        print(\"You need to enter number\")\n",
    "        return check_limit(input(\"Enter high limit \"))\n",
    "\n",
    "\n",
    "score_game(check_limit(input(\"Enter high limit \")))"
   ]
  }
 ],
 "metadata": {
  "kernelspec": {
   "display_name": "Python 3",
   "language": "python",
   "name": "python3"
  },
  "language_info": {
   "codemirror_mode": {
    "name": "ipython",
    "version": 3
   },
   "file_extension": ".py",
   "mimetype": "text/x-python",
   "name": "python",
   "nbconvert_exporter": "python",
   "pygments_lexer": "ipython3",
   "version": "3.8.5"
  }
 },
 "nbformat": 4,
 "nbformat_minor": 4
}
