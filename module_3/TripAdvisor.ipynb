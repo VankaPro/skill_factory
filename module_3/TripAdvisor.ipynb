{
 "cells": [
  {
   "cell_type": "markdown",
   "metadata": {},
   "source": [
    "\n",
    "# Ссылка на Kaggle\n",
    "https://www.kaggle.com/vankapro"
   ]
  },
  {
   "cell_type": "markdown",
   "metadata": {},
   "source": [
    "# Dependencies"
   ]
  },
  {
   "cell_type": "code",
   "execution_count": 11,
   "metadata": {
    "_cell_guid": "b1076dfc-b9ad-4769-8c92-a6c4dae69d19",
    "_uuid": "8f2839f25d086af736a60e9eeb907d3b93b6e0e5",
    "execution": {
     "iopub.execute_input": "2021-11-11T13:42:47.246028Z",
     "iopub.status.busy": "2021-11-11T13:42:47.24574Z",
     "iopub.status.idle": "2021-11-11T13:42:47.252025Z",
     "shell.execute_reply": "2021-11-11T13:42:47.251084Z",
     "shell.execute_reply.started": "2021-11-11T13:42:47.245999Z"
    }
   },
   "outputs": [],
   "source": [
    "# Импортируем необходимые библиотеки:\n",
    "import numpy as np # linear algebra\n",
    "import pandas as pd # data processing, CSV file I/O (e.g. pd.read_csv)\n",
    "import matplotlib.pyplot as plt\n",
    "import seaborn as sns\n",
    "from ast import literal_eval\n",
    "from sklearn.ensemble import RandomForestRegressor # инструмент для создания и обучения модели\n",
    "from sklearn import metrics # инструменты для оценки точности модели\n",
    "from sklearn.model_selection import train_test_split # специальный инструмент для разбивки"
   ]
  },
  {
   "cell_type": "markdown",
   "metadata": {},
   "source": [
    "# Data"
   ]
  },
  {
   "cell_type": "code",
   "execution_count": 12,
   "metadata": {
    "execution": {
     "iopub.execute_input": "2021-11-11T13:43:11.37684Z",
     "iopub.status.busy": "2021-11-11T13:43:11.376536Z",
     "iopub.status.idle": "2021-11-11T13:43:11.728065Z",
     "shell.execute_reply": "2021-11-11T13:43:11.727023Z",
     "shell.execute_reply.started": "2021-11-11T13:43:11.376809Z"
    }
   },
   "outputs": [],
   "source": [
    "data = pd.read_csv('main_task.csv')\n",
    "df_test = pd.read_csv('kaggle_task.csv')\n",
    "sample_submission = pd.read_csv('sample_submission.csv')\n",
    "# ВАЖНО! для корректной обработки признаков объединяем трейн и тест в один датасет\n",
    "data['Sample'] = 1 # помечаем где у нас трейн\n",
    "df_test['Sample'] = 0 # помечаем где у нас тест\n",
    "df_test['Rating'] = 0 # в тесте у нас нет значения Rating, мы его должны предсказать, по этому пока просто заполняем нулями\n",
    "\n",
    "#объединяем\n",
    "data = df_test.append(data, sort=False).reset_index(drop=True)"
   ]
  },
  {
   "cell_type": "code",
   "execution_count": 13,
   "metadata": {
    "execution": {
     "iopub.execute_input": "2021-11-11T13:43:16.395448Z",
     "iopub.status.busy": "2021-11-11T13:43:16.395133Z",
     "iopub.status.idle": "2021-11-11T13:43:16.416264Z",
     "shell.execute_reply": "2021-11-11T13:43:16.415527Z",
     "shell.execute_reply.started": "2021-11-11T13:43:16.395413Z"
    }
   },
   "outputs": [],
   "source": [
    "# Заполним пропуски нулевым значением\n",
    "data['Number of Reviews'].fillna(1, inplace=True)\n",
    "#Поменяем этот параметр на числовое представление.\n",
    "data['Price Range'] = data['Price Range'].map({'$': 0, '$$ - $$$': 1, '$$$$': 2})\n",
    "# Заполним пропуски медианным значением\n",
    "data['Price Range'].fillna(data['Price Range'].median(), inplace=True)"
   ]
  },
  {
   "cell_type": "code",
   "execution_count": 14,
   "metadata": {
    "execution": {
     "iopub.execute_input": "2021-11-11T13:43:20.180316Z",
     "iopub.status.busy": "2021-11-11T13:43:20.179814Z",
     "iopub.status.idle": "2021-11-11T13:43:37.959482Z",
     "shell.execute_reply": "2021-11-11T13:43:37.958734Z",
     "shell.execute_reply.started": "2021-11-11T13:43:20.180269Z"
    }
   },
   "outputs": [],
   "source": [
    "data['Reviews'] = data['Reviews'].str.replace('nan', 'None').fillna('[[], []]').transform(literal_eval)\n",
    "# Сделаем даты отзывов отдельными признаками, это позволит ввести новые параметры.\n",
    "reviews_dates = data['Reviews'].str[1].apply(pd.to_datetime)\n",
    "reviews_dates = reviews_dates.apply(lambda dates: (dates.min(), dates.max()))\n",
    "data[['Previous Review Date', 'Last Review Date']] = pd.DataFrame(reviews_dates.to_list(), index=data.index)"
   ]
  },
  {
   "cell_type": "code",
   "execution_count": 15,
   "metadata": {
    "execution": {
     "iopub.execute_input": "2021-11-11T13:43:55.028603Z",
     "iopub.status.busy": "2021-11-11T13:43:55.028336Z",
     "iopub.status.idle": "2021-11-11T13:43:55.044275Z",
     "shell.execute_reply": "2021-11-11T13:43:55.043287Z",
     "shell.execute_reply.started": "2021-11-11T13:43:55.028575Z"
    }
   },
   "outputs": [],
   "source": [
    "# Cоздаём новый параметр дней после последнего отзыва.\n",
    "last_review_ago = data['Last Review Date'].max() - data['Last Review Date']\n",
    "data['Last Review Ago'] = last_review_ago.dt.days\n",
    "# Заполним пропуски максимальным значением.\n",
    "data['Last Review Ago'].fillna(data['Last Review Ago'].max(), inplace=True)\n",
    "# Cоздаём новый параметр разницы дней между отзывами.\n",
    "reviews_interval = data['Last Review Date'] - data['Previous Review Date']\n",
    "data['Days Between Reviews'] = reviews_interval.dt.days\n",
    "# Заполним пропуски максимальным значением.\n",
    "data['Days Between Reviews'].fillna(data['Days Between Reviews'].max(), inplace=True)"
   ]
  },
  {
   "cell_type": "code",
   "execution_count": 16,
   "metadata": {
    "execution": {
     "iopub.execute_input": "2021-11-11T13:44:14.342983Z",
     "iopub.status.busy": "2021-11-11T13:44:14.34235Z",
     "iopub.status.idle": "2021-11-11T13:44:16.436126Z",
     "shell.execute_reply": "2021-11-11T13:44:16.435Z",
     "shell.execute_reply.started": "2021-11-11T13:44:14.342933Z"
    }
   },
   "outputs": [
    {
     "data": {
      "image/png": "[encoded data removed]",
      "text/plain": [
       "<Figure size 432x288 with 1 Axes>"
      ]
     },
     "metadata": {
      "needs_background": "light"
     },
     "output_type": "display_data"
    }
   ],
   "source": [
    "# Посмотрим на распределение ранга по городам.\n",
    "for x in (data['City'].value_counts())[0:10].index:\n",
    "    data['Ranking'][data['City'] == x].hist(bins=100)\n",
    "plt.show()"
   ]
  },
  {
   "cell_type": "code",
   "execution_count": 17,
   "metadata": {
    "execution": {
     "iopub.execute_input": "2021-11-11T13:44:19.244438Z",
     "iopub.status.busy": "2021-11-11T13:44:19.244133Z",
     "iopub.status.idle": "2021-11-11T13:44:22.564362Z",
     "shell.execute_reply": "2021-11-11T13:44:22.563387Z",
     "shell.execute_reply.started": "2021-11-11T13:44:19.244403Z"
    }
   },
   "outputs": [
    {
     "data": {
      "image/png": "[encoded data removed]",
      "text/plain": [
       "<Figure size 432x288 with 1 Axes>"
      ]
     },
     "metadata": {
      "needs_background": "light"
     },
     "output_type": "display_data"
    }
   ],
   "source": [
    "# Нормируем ранг и создаём новый параметр\n",
    "cities_max_ranking = data.groupby('City')['Ranking'].max()\n",
    "data['Scaled Ranking'] = data[['City', 'Ranking']].apply(lambda row: row['Ranking'] / cities_max_ranking[row['City']], axis=1)\n",
    "# Посмотрим на распределение нормированного ранга по городам.\n",
    "for x in (data['City'].value_counts())[0:10].index:\n",
    "    data['Scaled Ranking'][data['City'] == x].hist(bins=100)\n",
    "plt.show()"
   ]
  },
  {
   "cell_type": "code",
   "execution_count": 18,
   "metadata": {
    "execution": {
     "iopub.execute_input": "2021-11-11T13:44:32.271528Z",
     "iopub.status.busy": "2021-11-11T13:44:32.270723Z",
     "iopub.status.idle": "2021-11-11T13:44:32.688434Z",
     "shell.execute_reply": "2021-11-11T13:44:32.687571Z",
     "shell.execute_reply.started": "2021-11-11T13:44:32.271491Z"
    }
   },
   "outputs": [
    {
     "data": {
      "text/plain": [
       "<AxesSubplot:>"
      ]
     },
     "execution_count": 18,
     "metadata": {},
     "output_type": "execute_result"
    },
    {
     "data": {
      "image/png": "[encoded data removed]",
      "text/plain": [
       "<Figure size 432x288 with 2 Axes>"
      ]
     },
     "metadata": {
      "needs_background": "light"
     },
     "output_type": "display_data"
    }
   ],
   "source": [
    "corr = data.corr()\n",
    "sns.heatmap(corr)"
   ]
  },
  {
   "cell_type": "code",
   "execution_count": 19,
   "metadata": {
    "execution": {
     "iopub.execute_input": "2021-11-11T13:45:57.245684Z",
     "iopub.status.busy": "2021-11-11T13:45:57.245399Z",
     "iopub.status.idle": "2021-11-11T13:45:58.493808Z",
     "shell.execute_reply": "2021-11-11T13:45:58.49288Z",
     "shell.execute_reply.started": "2021-11-11T13:45:57.245654Z"
    }
   },
   "outputs": [],
   "source": [
    "# Cоздаём dummy переменные из Городов и Кухонь.\n",
    "data = pd.concat([data, pd.get_dummies(data['City'])], axis=1)\n",
    "                 \n",
    "data['Cuisine Style'] = data['Cuisine Style'].fillna('[\"General\"]').transform(literal_eval)\n",
    "data = pd.concat([data, pd.get_dummies(data['Cuisine Style'].explode()).groupby(level=0).sum()], axis=1)"
   ]
  },
  {
   "cell_type": "code",
   "execution_count": 20,
   "metadata": {
    "execution": {
     "iopub.status.busy": "2021-11-11T13:27:07.770039Z",
     "iopub.status.idle": "2021-11-11T13:27:07.770696Z",
     "shell.execute_reply": "2021-11-11T13:27:07.770421Z",
     "shell.execute_reply.started": "2021-11-11T13:27:07.770397Z"
    }
   },
   "outputs": [],
   "source": [
    "# Cоздаём новый параметр количества предлагаемых кухонь в ресторане.\n",
    "data['Cuisine Сount'] = data['Cuisine Style'].str.len()"
   ]
  },
  {
   "cell_type": "code",
   "execution_count": 21,
   "metadata": {
    "execution": {
     "iopub.status.busy": "2021-11-11T13:27:07.771966Z",
     "iopub.status.idle": "2021-11-11T13:27:07.772562Z",
     "shell.execute_reply": "2021-11-11T13:27:07.772311Z",
     "shell.execute_reply.started": "2021-11-11T13:27:07.77228Z"
    }
   },
   "outputs": [
    {
     "data": {
      "text/html": [
       "<div>\n",
       "<style scoped>\n",
       "    .dataframe tbody tr th:only-of-type {\n",
       "        vertical-align: middle;\n",
       "    }\n",
       "\n",
       "    .dataframe tbody tr th {\n",
       "        vertical-align: top;\n",
       "    }\n",
       "\n",
       "    .dataframe thead th {\n",
       "        text-align: right;\n",
       "    }\n",
       "</style>\n",
       "<table border=\"1\" class=\"dataframe\">\n",
       "  <thead>\n",
       "    <tr style=\"text-align: right;\">\n",
       "      <th></th>\n",
       "      <th>Restaurant_id</th>\n",
       "      <th>City</th>\n",
       "      <th>Cuisine Style</th>\n",
       "      <th>Ranking</th>\n",
       "      <th>Price Range</th>\n",
       "      <th>Number of Reviews</th>\n",
       "      <th>Reviews</th>\n",
       "      <th>URL_TA</th>\n",
       "      <th>ID_TA</th>\n",
       "      <th>Sample</th>\n",
       "      <th>...</th>\n",
       "      <th>Wine Bar</th>\n",
       "      <th>Xinjiang</th>\n",
       "      <th>Yunnan</th>\n",
       "      <th>Cuisine Сount</th>\n",
       "      <th>num_vis</th>\n",
       "      <th>capital</th>\n",
       "      <th>pop</th>\n",
       "      <th>gpd</th>\n",
       "      <th>temp</th>\n",
       "      <th>wage</th>\n",
       "    </tr>\n",
       "  </thead>\n",
       "  <tbody>\n",
       "    <tr>\n",
       "      <th>0</th>\n",
       "      <td>id_0</td>\n",
       "      <td>Paris</td>\n",
       "      <td>[Bar, Pub]</td>\n",
       "      <td>12963.0</td>\n",
       "      <td>1.0</td>\n",
       "      <td>4.0</td>\n",
       "      <td>[[], []]</td>\n",
       "      <td>/Restaurant_Review-g187147-d10746918-Reviews-L...</td>\n",
       "      <td>d10746918</td>\n",
       "      <td>0</td>\n",
       "      <td>...</td>\n",
       "      <td>0</td>\n",
       "      <td>0</td>\n",
       "      <td>0</td>\n",
       "      <td>2</td>\n",
       "      <td>17.7951</td>\n",
       "      <td>1.0</td>\n",
       "      <td>2.188</td>\n",
       "      <td>2.295</td>\n",
       "      <td>11.3</td>\n",
       "      <td>3084.0</td>\n",
       "    </tr>\n",
       "    <tr>\n",
       "      <th>1</th>\n",
       "      <td>id_1</td>\n",
       "      <td>Helsinki</td>\n",
       "      <td>[European, Scandinavian, Gluten Free Options, ...</td>\n",
       "      <td>106.0</td>\n",
       "      <td>1.0</td>\n",
       "      <td>97.0</td>\n",
       "      <td>[[Very good reviews!, Fine dining in Hakaniemi...</td>\n",
       "      <td>/Restaurant_Review-g189934-d6674944-Reviews-Ra...</td>\n",
       "      <td>d6674944</td>\n",
       "      <td>0</td>\n",
       "      <td>...</td>\n",
       "      <td>0</td>\n",
       "      <td>0</td>\n",
       "      <td>0</td>\n",
       "      <td>5</td>\n",
       "      <td>2.0000</td>\n",
       "      <td>1.0</td>\n",
       "      <td>0.630</td>\n",
       "      <td>0.226</td>\n",
       "      <td>5.1</td>\n",
       "      <td>3400.0</td>\n",
       "    </tr>\n",
       "    <tr>\n",
       "      <th>2</th>\n",
       "      <td>id_2</td>\n",
       "      <td>Edinburgh</td>\n",
       "      <td>[Vegetarian Friendly]</td>\n",
       "      <td>810.0</td>\n",
       "      <td>1.0</td>\n",
       "      <td>28.0</td>\n",
       "      <td>[[Better than the Links, Ivy Black], [12/28/20...</td>\n",
       "      <td>/Restaurant_Review-g186525-d13129638-Reviews-B...</td>\n",
       "      <td>d13129638</td>\n",
       "      <td>0</td>\n",
       "      <td>...</td>\n",
       "      <td>0</td>\n",
       "      <td>0</td>\n",
       "      <td>0</td>\n",
       "      <td>1</td>\n",
       "      <td>2.0000</td>\n",
       "      <td>1.0</td>\n",
       "      <td>0.513</td>\n",
       "      <td>0.165</td>\n",
       "      <td>8.5</td>\n",
       "      <td>2000.0</td>\n",
       "    </tr>\n",
       "    <tr>\n",
       "      <th>3</th>\n",
       "      <td>id_3</td>\n",
       "      <td>London</td>\n",
       "      <td>[Italian, Mediterranean, European, Vegetarian ...</td>\n",
       "      <td>1669.0</td>\n",
       "      <td>2.0</td>\n",
       "      <td>202.0</td>\n",
       "      <td>[[Most exquisite, Delicious and authentic], [1...</td>\n",
       "      <td>/Restaurant_Review-g186338-d680417-Reviews-Qui...</td>\n",
       "      <td>d680417</td>\n",
       "      <td>0</td>\n",
       "      <td>...</td>\n",
       "      <td>0</td>\n",
       "      <td>0</td>\n",
       "      <td>0</td>\n",
       "      <td>5</td>\n",
       "      <td>19.5565</td>\n",
       "      <td>1.0</td>\n",
       "      <td>8.797</td>\n",
       "      <td>2.500</td>\n",
       "      <td>11.1</td>\n",
       "      <td>2280.0</td>\n",
       "    </tr>\n",
       "    <tr>\n",
       "      <th>4</th>\n",
       "      <td>id_4</td>\n",
       "      <td>Bratislava</td>\n",
       "      <td>[Italian, Mediterranean, European, Seafood, Ve...</td>\n",
       "      <td>37.0</td>\n",
       "      <td>2.0</td>\n",
       "      <td>162.0</td>\n",
       "      <td>[[Always the best in bratislava, Very good but...</td>\n",
       "      <td>/Restaurant_Review-g274924-d1112354-Reviews-Ma...</td>\n",
       "      <td>d1112354</td>\n",
       "      <td>0</td>\n",
       "      <td>...</td>\n",
       "      <td>0</td>\n",
       "      <td>0</td>\n",
       "      <td>0</td>\n",
       "      <td>6</td>\n",
       "      <td>1.5000</td>\n",
       "      <td>1.0</td>\n",
       "      <td>0.438</td>\n",
       "      <td>0.085</td>\n",
       "      <td>9.7</td>\n",
       "      <td>1100.0</td>\n",
       "    </tr>\n",
       "  </tbody>\n",
       "</table>\n",
       "<p>5 rows × 180 columns</p>\n",
       "</div>"
      ],
      "text/plain": [
       "  Restaurant_id        City  \\\n",
       "0          id_0       Paris   \n",
       "1          id_1    Helsinki   \n",
       "2          id_2   Edinburgh   \n",
       "3          id_3      London   \n",
       "4          id_4  Bratislava   \n",
       "\n",
       "                                       Cuisine Style  Ranking  Price Range  \\\n",
       "0                                         [Bar, Pub]  12963.0          1.0   \n",
       "1  [European, Scandinavian, Gluten Free Options, ...    106.0          1.0   \n",
       "2                              [Vegetarian Friendly]    810.0          1.0   \n",
       "3  [Italian, Mediterranean, European, Vegetarian ...   1669.0          2.0   \n",
       "4  [Italian, Mediterranean, European, Seafood, Ve...     37.0          2.0   \n",
       "\n",
       "   Number of Reviews                                            Reviews  \\\n",
       "0                4.0                                           [[], []]   \n",
       "1               97.0  [[Very good reviews!, Fine dining in Hakaniemi...   \n",
       "2               28.0  [[Better than the Links, Ivy Black], [12/28/20...   \n",
       "3              202.0  [[Most exquisite, Delicious and authentic], [1...   \n",
       "4              162.0  [[Always the best in bratislava, Very good but...   \n",
       "\n",
       "                                              URL_TA      ID_TA  Sample  ...  \\\n",
       "0  /Restaurant_Review-g187147-d10746918-Reviews-L...  d10746918       0  ...   \n",
       "1  /Restaurant_Review-g189934-d6674944-Reviews-Ra...   d6674944       0  ...   \n",
       "2  /Restaurant_Review-g186525-d13129638-Reviews-B...  d13129638       0  ...   \n",
       "3  /Restaurant_Review-g186338-d680417-Reviews-Qui...    d680417       0  ...   \n",
       "4  /Restaurant_Review-g274924-d1112354-Reviews-Ma...   d1112354       0  ...   \n",
       "\n",
       "   Wine Bar Xinjiang Yunnan  Cuisine Сount  num_vis  capital    pop    gpd  \\\n",
       "0         0        0      0              2  17.7951      1.0  2.188  2.295   \n",
       "1         0        0      0              5   2.0000      1.0  0.630  0.226   \n",
       "2         0        0      0              1   2.0000      1.0  0.513  0.165   \n",
       "3         0        0      0              5  19.5565      1.0  8.797  2.500   \n",
       "4         0        0      0              6   1.5000      1.0  0.438  0.085   \n",
       "\n",
       "   temp    wage  \n",
       "0  11.3  3084.0  \n",
       "1   5.1  3400.0  \n",
       "2   8.5  2000.0  \n",
       "3  11.1  2280.0  \n",
       "4   9.7  1100.0  \n",
       "\n",
       "[5 rows x 180 columns]"
      ]
     },
     "execution_count": 21,
     "metadata": {},
     "output_type": "execute_result"
    }
   ],
   "source": [
    "# Добавляем новые данные. Весь этот блок и информация по городам полностью позаимствованы из блокнота с лучшей моделью.\n",
    "countries = dict(city=[\"London\", \"Paris\", \"Lyon\", \"Madrid\", \"Barcelona\", \"Berlin\", \"Hamburg\",\n",
    "                       \"Munich\", \"Milan\", \"Rome\", \"Prague\", \"Lisbon\", \"Oporto\",\n",
    "                       \"Vienna\", \"Amsterdam\", \"Brussels\", \"Stockholm\", \"Budapest\",\n",
    "                       \"Warsaw\", \"Krakow\", \"Dublin\", \"Copenhagen\", \"Athens\", \"Edinburgh\",\n",
    "                       \"Zurich\", \"Geneva\", \"Oslo\", \"Helsinki\", \"Bratislava\",\n",
    "                       \"Luxembourg\", \"Ljubljana\"],\n",
    "\n",
    "                 wage=[2280, 3084, 3084, 1900, 1900, 3750, 3750,\n",
    "                           3750, 2434, 2434, 1146, 815, 815,\n",
    "                           2700, 2152, 2500, 2650, 763,\n",
    "                           900, 900, 2200, 5390, 1811, 2000,\n",
    "                           5789, 5789, 4420, 3400, 1100,\n",
    "                           4308, 1593],\n",
    "\n",
    "                 pop=[8.797, 2.188, 0.516, 6.477, 5.474, 3.539, 1.791, 1.464, 1.352,\n",
    "                          2.873, 1.281, 2.913, 1.304, 1.868, 0.845, 2.034, 1.553, 1.752,\n",
    "                          1.759, 0.766, 1.348, 0.602, 3.157, 0.513, 0.403, 0.490, 0.667,\n",
    "                          0.630, 0.438, 0.122, 0.293],\n",
    "\n",
    "                 gpd=[2.500, 2.295, 2.295, 1.162, 1.162, 3.245, 3.245, 3.245, 1.737,\n",
    "                          1.737, 0.192, 0.196, 0.196, 0.370, 0.738, 0.446, 0.480, 0.126,\n",
    "                          0.467, 0.467, 0.297, 0.292, 0.180, 0.165, 0.557, 0.557, 0.326,\n",
    "                          0.226, 0.085, 0.057, 0.043],\n",
    "\n",
    "                 temp=[11.10, 11.30, 11.60, 13.70, 16.50, 9.100, 8.500, 8.000, 13.10,\n",
    "                          15.70, 9.000, 16.90, 14.40, 9.900, 9.200, 10.30, 7.000, 11.00,\n",
    "                          7.700, 8.200, 9.700, 8.400, 18.10, 8.500, 9.300, 10.30, 6.300,\n",
    "                          5.100, 9.700, 9.100, 10.40],\n",
    "\n",
    "                 num_vis=[19.5565, 17.7951, 5.0000, 5.35005, 7.45725, 5.4497, 2.0000,\n",
    "                          4.65830, 7.06565, 8.5927, 7.37930, 3.58470, 2.3413,\n",
    "                          6.55015, 8.17710, 3.3260, 2.34230, 3.59140,\n",
    "                          2.11000, 1.91600, 5.0917, 2.34985, 4.20420, 2.0000,\n",
    "                          2.62000, 1.32500, 1.0000, 2.00000, 1.50000,\n",
    "                          1.00000, 0.90000],\n",
    "\n",
    "                 capital=[1, 1, 0, 1, 0, 1, 0, 0, 0, 1, 1, 1, 0, 1, 1, 1, 1, 1, 1, 0,\n",
    "                          1, 1, 1, 1, 1, 0, 1, 1, 1, 1, 1])\n",
    "\n",
    "countries = pd.DataFrame(countries)\n",
    "countries.set_index(\"city\", inplace=True)\n",
    "\n",
    "data.append(pd.DataFrame(columns=[\"num_visd\", \"capital\", \"pop\",\n",
    "                                  \"gpd\", \"temp\", \"wage\"], dtype=\"float64\"))\n",
    "\n",
    "i = 0\n",
    "\n",
    "for elem in data[\"City\"]:\n",
    "    data.at[i, 'num_vis'] = countries[\"num_vis\"][elem]\n",
    "    data.at[i, 'capital'] = countries[\"capital\"][elem]\n",
    "    data.at[i, 'pop'] = countries[\"pop\"][elem]\n",
    "    data.at[i, 'gpd'] = countries[\"gpd\"][elem]\n",
    "    data.at[i, 'temp'] = countries[\"temp\"][elem]\n",
    "    data.at[i, 'wage'] = countries[\"wage\"][elem]\n",
    "\n",
    "    i += 1\n",
    "\n",
    "data.head(5)"
   ]
  },
  {
   "cell_type": "markdown",
   "metadata": {},
   "source": [
    "# Model"
   ]
  },
  {
   "cell_type": "code",
   "execution_count": 22,
   "metadata": {
    "execution": {
     "iopub.status.busy": "2021-11-11T13:27:07.773751Z",
     "iopub.status.idle": "2021-11-11T13:27:07.774281Z",
     "shell.execute_reply": "2021-11-11T13:27:07.774085Z",
     "shell.execute_reply.started": "2021-11-11T13:27:07.774052Z"
    }
   },
   "outputs": [],
   "source": [
    "train_data = data.query('Sample == 1').drop(['Sample'], axis=1)\n",
    "test_data = data.query('Sample == 0').drop(['Sample'], axis=1)\n",
    "# Х - данные с информацией о ресторанах, у - целевая переменная (рейтинги ресторанов)\n",
    "X = train_data.drop(['Restaurant_id', 'Rating', 'City','Cuisine Style','Reviews','URL_TA','ID_TA','Previous Review Date', 'Last Review Date'], axis = 1)\n",
    "y = train_data['Rating']\n",
    "# Наборы данных с меткой \"train\" будут использоваться для обучения модели, \"test\" - для тестирования.\n",
    "# Для тестирования мы будем использовать 25% от исходного датасета.\n",
    "X_train, X_test, y_train, y_test = train_test_split(X, y, test_size=0.25)"
   ]
  },
  {
   "cell_type": "code",
   "execution_count": 23,
   "metadata": {
    "execution": {
     "iopub.status.busy": "2021-11-11T13:27:07.775437Z",
     "iopub.status.idle": "2021-11-11T13:27:07.776058Z",
     "shell.execute_reply": "2021-11-11T13:27:07.775872Z",
     "shell.execute_reply.started": "2021-11-11T13:27:07.775848Z"
    }
   },
   "outputs": [],
   "source": [
    "# Создаём модель\n",
    "regr = RandomForestRegressor(n_estimators=100)\n",
    "# Обучаем модель на тестовом наборе данных\n",
    "regr.fit(X_train, y_train)\n",
    "# Используем обученную модель для предсказания рейтинга ресторанов в тестовой выборке.\n",
    "# Предсказанные значения записываем в переменную y_pred\n",
    "y_pred = regr.predict(X_test)\n",
    "y_pred = np.around(2*y_pred, 0)/2"
   ]
  },
  {
   "cell_type": "code",
   "execution_count": 24,
   "metadata": {
    "execution": {
     "iopub.status.busy": "2021-11-11T13:27:07.777336Z",
     "iopub.status.idle": "2021-11-11T13:27:07.777798Z",
     "shell.execute_reply": "2021-11-11T13:27:07.777607Z",
     "shell.execute_reply.started": "2021-11-11T13:27:07.777589Z"
    }
   },
   "outputs": [
    {
     "name": "stdout",
     "output_type": "stream",
     "text": [
      "MAE: 0.1685\n"
     ]
    }
   ],
   "source": [
    "# Сравниваем предсказанные значения (y_pred) с реальными (y_test), и смотрим насколько они в среднем отличаются\n",
    "# Метрика называется Mean Absolute Error (MAE) и показывает среднее отклонение предсказанных значений от фактических.\n",
    "print('MAE:', metrics.mean_absolute_error(y_test, y_pred))"
   ]
  },
  {
   "cell_type": "markdown",
   "metadata": {},
   "source": [
    "# Submission"
   ]
  },
  {
   "cell_type": "code",
   "execution_count": 25,
   "metadata": {
    "execution": {
     "iopub.status.busy": "2021-11-11T13:27:07.778649Z",
     "iopub.status.idle": "2021-11-11T13:27:07.779085Z",
     "shell.execute_reply": "2021-11-11T13:27:07.77893Z",
     "shell.execute_reply.started": "2021-11-11T13:27:07.778912Z"
    }
   },
   "outputs": [
    {
     "data": {
      "image/png": "[encoded data removed]",
      "text/plain": [
       "<Figure size 432x288 with 1 Axes>"
      ]
     },
     "metadata": {
      "needs_background": "light"
     },
     "output_type": "display_data"
    }
   ],
   "source": [
    "key_params = pd.Series(regr.feature_importances_, index=X.columns)\n",
    "key_params.nlargest(15).plot(kind='barh');"
   ]
  },
  {
   "cell_type": "code",
   "execution_count": 26,
   "metadata": {
    "execution": {
     "iopub.status.busy": "2021-11-11T13:27:07.779933Z",
     "iopub.status.idle": "2021-11-11T13:27:07.780358Z",
     "shell.execute_reply": "2021-11-11T13:27:07.780209Z",
     "shell.execute_reply.started": "2021-11-11T13:27:07.780191Z"
    }
   },
   "outputs": [
    {
     "data": {
      "text/html": [
       "<div>\n",
       "<style scoped>\n",
       "    .dataframe tbody tr th:only-of-type {\n",
       "        vertical-align: middle;\n",
       "    }\n",
       "\n",
       "    .dataframe tbody tr th {\n",
       "        vertical-align: top;\n",
       "    }\n",
       "\n",
       "    .dataframe thead th {\n",
       "        text-align: right;\n",
       "    }\n",
       "</style>\n",
       "<table border=\"1\" class=\"dataframe\">\n",
       "  <thead>\n",
       "    <tr style=\"text-align: right;\">\n",
       "      <th></th>\n",
       "      <th>Restaurant_id</th>\n",
       "      <th>Rating</th>\n",
       "    </tr>\n",
       "  </thead>\n",
       "  <tbody>\n",
       "    <tr>\n",
       "      <th>0</th>\n",
       "      <td>id_0</td>\n",
       "      <td>3.0</td>\n",
       "    </tr>\n",
       "    <tr>\n",
       "      <th>1</th>\n",
       "      <td>id_1</td>\n",
       "      <td>4.0</td>\n",
       "    </tr>\n",
       "    <tr>\n",
       "      <th>2</th>\n",
       "      <td>id_2</td>\n",
       "      <td>4.5</td>\n",
       "    </tr>\n",
       "    <tr>\n",
       "      <th>3</th>\n",
       "      <td>id_3</td>\n",
       "      <td>4.5</td>\n",
       "    </tr>\n",
       "    <tr>\n",
       "      <th>4</th>\n",
       "      <td>id_4</td>\n",
       "      <td>4.5</td>\n",
       "    </tr>\n",
       "    <tr>\n",
       "      <th>...</th>\n",
       "      <td>...</td>\n",
       "      <td>...</td>\n",
       "    </tr>\n",
       "    <tr>\n",
       "      <th>9995</th>\n",
       "      <td>id_9995</td>\n",
       "      <td>4.5</td>\n",
       "    </tr>\n",
       "    <tr>\n",
       "      <th>9996</th>\n",
       "      <td>id_9996</td>\n",
       "      <td>4.0</td>\n",
       "    </tr>\n",
       "    <tr>\n",
       "      <th>9997</th>\n",
       "      <td>id_9997</td>\n",
       "      <td>3.0</td>\n",
       "    </tr>\n",
       "    <tr>\n",
       "      <th>9998</th>\n",
       "      <td>id_9998</td>\n",
       "      <td>4.0</td>\n",
       "    </tr>\n",
       "    <tr>\n",
       "      <th>9999</th>\n",
       "      <td>id_9999</td>\n",
       "      <td>4.5</td>\n",
       "    </tr>\n",
       "  </tbody>\n",
       "</table>\n",
       "<p>10000 rows × 2 columns</p>\n",
       "</div>"
      ],
      "text/plain": [
       "     Restaurant_id  Rating\n",
       "0             id_0     3.0\n",
       "1             id_1     4.0\n",
       "2             id_2     4.5\n",
       "3             id_3     4.5\n",
       "4             id_4     4.5\n",
       "...            ...     ...\n",
       "9995       id_9995     4.5\n",
       "9996       id_9996     4.0\n",
       "9997       id_9997     3.0\n",
       "9998       id_9998     4.0\n",
       "9999       id_9999     4.5\n",
       "\n",
       "[10000 rows x 2 columns]"
      ]
     },
     "execution_count": 26,
     "metadata": {},
     "output_type": "execute_result"
    }
   ],
   "source": [
    "X = test_data.drop(['Restaurant_id', 'Rating', 'City','Cuisine Style','Reviews','URL_TA','ID_TA','Previous Review Date', 'Last Review Date'], axis = 1)\n",
    "pred = regr.predict(X)\n",
    "pred = np.around(2*pred, 0)/2\n",
    "sample_submission['Rating'] = pred\n",
    "sample_submission.to_csv('submission.csv', index=False)\n",
    "sample_submission"
   ]
  }
 ],
 "metadata": {
  "kernelspec": {
   "display_name": "Python 3",
   "language": "python",
   "name": "python3"
  },
  "language_info": {
   "codemirror_mode": {
    "name": "ipython",
    "version": 3
   },
   "file_extension": ".py",
   "mimetype": "text/x-python",
   "name": "python",
   "nbconvert_exporter": "python",
   "pygments_lexer": "ipython3",
   "version": "3.8.5"
  }
 },
 "nbformat": 4,
 "nbformat_minor": 4
}
